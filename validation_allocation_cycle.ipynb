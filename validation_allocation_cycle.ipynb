{
 "cells": [
  {
   "cell_type": "code",
   "execution_count": 1,
   "id": "460106fd",
   "metadata": {},
   "outputs": [
    {
     "name": "stdout",
     "output_type": "stream",
     "text": [
      "2025-07-31 12:46:29,203 |     INFO | Logger initialized for algoritmo_GD\n"
     ]
    }
   ],
   "source": [
    "### Validate allocation cycle\n",
    "import os\n",
    "import pandas as pd\n",
    "import datetime as dt\n",
    "import numpy as np\n",
    "from src.config import ROOT_DIR, CONFIG\n",
    "\n",
    "path_os = os.path.join(ROOT_DIR, 'data', 'output')\n",
    "posto_id = '22'\n",
    "process_id = '2641'\n",
    "df_calendario = pd.read_csv(os.path.join(path_os, 'df_calendario-'+process_id+'-'+posto_id+'.csv'))\n",
    "df_estimativas = pd.read_csv(os.path.join(path_os, 'df_estimativas-'+process_id+'-'+posto_id+'.csv'))\n",
    "df_colaboradores = pd.read_csv(os.path.join(path_os, 'df_colaborador-'+process_id+'-'+posto_id+'.csv'))\n",
    "df_insert_results = pd.read_csv(os.path.join(path_os, 'df_insert_results-'+process_id+'-'+posto_id+'.csv'))\n",
    "df_results = pd.read_csv(os.path.join(path_os, 'df_results-'+process_id+'-'+posto_id+'.csv'))\n",
    "\n",
    "data_ini = dt.datetime.strptime(CONFIG.get('external_call_data').get('start_date'), '%Y-%m-%d')\n",
    "data_fim = dt.datetime.strptime(CONFIG.get('external_call_data').get('end_date'), '%Y-%m-%d')\n"
   ]
  },
  {
   "cell_type": "markdown",
   "id": "0d69f422",
   "metadata": {},
   "source": [
    "## Totais de folgas aplicadas"
   ]
  },
  {
   "cell_type": "code",
   "execution_count": 2,
   "id": "7822ddb2",
   "metadata": {},
   "outputs": [
    {
     "name": "stdout",
     "output_type": "stream",
     "text": [
      "    colaborador  L_count  LQ_count\n",
      "0             1       68       2.0\n",
      "1             2       64       1.0\n",
      "2      80000686       39       1.0\n",
      "3      80000951       97       0.0\n",
      "4      80001012       60       0.0\n",
      "5      80001134       99       0.0\n",
      "6      80001237       99       5.0\n",
      "7      80001366       99       5.0\n",
      "8      80001489       99       5.0\n",
      "9      80001568       99       5.0\n",
      "10     80001578       99       5.0\n",
      "11     80001586       51       2.0\n",
      "12     80001630      100       4.0\n"
     ]
    }
   ],
   "source": [
    "# Check how many L's we gave to each colaborador in the results\n",
    "\n",
    "# Filter rows where horario is 'L' and count by colaborador\n",
    "df_folgas_per_colab_L = df_results[df_results['horario'] == 'L'].groupby('colaborador').size().reset_index(name='L_count')\n",
    "df_folgas_per_colab_LQ = df_results[df_results['horario'] == 'LQ'].groupby('colaborador').size().reset_index(name='LQ_count')\n",
    "\n",
    "# Merge the two dataframes on the colaborador column\n",
    "df_folgas_per_colab = pd.merge(df_folgas_per_colab_L, df_folgas_per_colab_LQ, on='colaborador', how='left')\n",
    "df_folgas_per_colab['L_count'] = df_folgas_per_colab['L_count'].fillna(0)\n",
    "df_folgas_per_colab['LQ_count'] = df_folgas_per_colab['LQ_count'].fillna(0)\n",
    "print(df_folgas_per_colab)\n",
    "\n",
    "# df_folgas_per_colab must have the same as in df_colaborador"
   ]
  },
  {
   "cell_type": "markdown",
   "id": "9285a792",
   "metadata": {},
   "source": [
    "## Semanas de incumprimento"
   ]
  },
  {
   "cell_type": "code",
   "execution_count": 3,
   "id": "5802b7fc",
   "metadata": {},
   "outputs": [
    {
     "ename": "KeyError",
     "evalue": "\"['data_demissao'] not in index\"",
     "output_type": "error",
     "traceback": [
      "\u001b[31m---------------------------------------------------------------------------\u001b[39m",
      "\u001b[31mKeyError\u001b[39m                                  Traceback (most recent call last)",
      "\u001b[36mCell\u001b[39m\u001b[36m \u001b[39m\u001b[32mIn[3]\u001b[39m\u001b[32m, line 14\u001b[39m\n\u001b[32m     11\u001b[39m \u001b[38;5;66;03m# Filter the data column to be between data_ini and data_fim\u001b[39;00m\n\u001b[32m     12\u001b[39m \u001b[38;5;66;03m#print(df_colaboradores.columns)\u001b[39;00m\n\u001b[32m     13\u001b[39m df_colaborador = df_colaboradores.copy()\n\u001b[32m---> \u001b[39m\u001b[32m14\u001b[39m df_colaborador = \u001b[43mdf_colaborador\u001b[49m\u001b[43m[\u001b[49m\u001b[43m[\u001b[49m\u001b[33;43m'\u001b[39;49m\u001b[33;43mmatricula\u001b[39;49m\u001b[33;43m'\u001b[39;49m\u001b[43m,\u001b[49m\u001b[43m \u001b[49m\u001b[33;43m'\u001b[39;49m\u001b[33;43mdata_admissao\u001b[39;49m\u001b[33;43m'\u001b[39;49m\u001b[43m,\u001b[49m\u001b[43m \u001b[49m\u001b[33;43m'\u001b[39;49m\u001b[33;43mdata_demissao\u001b[39;49m\u001b[33;43m'\u001b[39;49m\u001b[43m]\u001b[49m\u001b[43m]\u001b[49m\n\u001b[32m     15\u001b[39m df_colaborador[\u001b[33m'\u001b[39m\u001b[33mdata_admissao\u001b[39m\u001b[33m'\u001b[39m] = pd.to_datetime(df_colaborador[\u001b[33m'\u001b[39m\u001b[33mdata_admissao\u001b[39m\u001b[33m'\u001b[39m])\n\u001b[32m     16\u001b[39m df_colaborador[\u001b[33m'\u001b[39m\u001b[33mdata_demissao\u001b[39m\u001b[33m'\u001b[39m] = df_colaborador[\u001b[33m'\u001b[39m\u001b[33mdata_demissao\u001b[39m\u001b[33m'\u001b[39m].replace([\u001b[32m0\u001b[39m, \u001b[33m'\u001b[39m\u001b[33m0\u001b[39m\u001b[33m'\u001b[39m, np.nan], data_fim)\n",
      "\u001b[36mFile \u001b[39m\u001b[32mc:\\ALCAMPO\\python-algorithms\\algortimo-gd\\.venv\\Lib\\site-packages\\pandas\\core\\frame.py:4108\u001b[39m, in \u001b[36mDataFrame.__getitem__\u001b[39m\u001b[34m(self, key)\u001b[39m\n\u001b[32m   4106\u001b[39m     \u001b[38;5;28;01mif\u001b[39;00m is_iterator(key):\n\u001b[32m   4107\u001b[39m         key = \u001b[38;5;28mlist\u001b[39m(key)\n\u001b[32m-> \u001b[39m\u001b[32m4108\u001b[39m     indexer = \u001b[38;5;28;43mself\u001b[39;49m\u001b[43m.\u001b[49m\u001b[43mcolumns\u001b[49m\u001b[43m.\u001b[49m\u001b[43m_get_indexer_strict\u001b[49m\u001b[43m(\u001b[49m\u001b[43mkey\u001b[49m\u001b[43m,\u001b[49m\u001b[43m \u001b[49m\u001b[33;43m\"\u001b[39;49m\u001b[33;43mcolumns\u001b[39;49m\u001b[33;43m\"\u001b[39;49m\u001b[43m)\u001b[49m[\u001b[32m1\u001b[39m]\n\u001b[32m   4110\u001b[39m \u001b[38;5;66;03m# take() does not accept boolean indexers\u001b[39;00m\n\u001b[32m   4111\u001b[39m \u001b[38;5;28;01mif\u001b[39;00m \u001b[38;5;28mgetattr\u001b[39m(indexer, \u001b[33m\"\u001b[39m\u001b[33mdtype\u001b[39m\u001b[33m\"\u001b[39m, \u001b[38;5;28;01mNone\u001b[39;00m) == \u001b[38;5;28mbool\u001b[39m:\n",
      "\u001b[36mFile \u001b[39m\u001b[32mc:\\ALCAMPO\\python-algorithms\\algortimo-gd\\.venv\\Lib\\site-packages\\pandas\\core\\indexes\\base.py:6200\u001b[39m, in \u001b[36mIndex._get_indexer_strict\u001b[39m\u001b[34m(self, key, axis_name)\u001b[39m\n\u001b[32m   6197\u001b[39m \u001b[38;5;28;01melse\u001b[39;00m:\n\u001b[32m   6198\u001b[39m     keyarr, indexer, new_indexer = \u001b[38;5;28mself\u001b[39m._reindex_non_unique(keyarr)\n\u001b[32m-> \u001b[39m\u001b[32m6200\u001b[39m \u001b[38;5;28;43mself\u001b[39;49m\u001b[43m.\u001b[49m\u001b[43m_raise_if_missing\u001b[49m\u001b[43m(\u001b[49m\u001b[43mkeyarr\u001b[49m\u001b[43m,\u001b[49m\u001b[43m \u001b[49m\u001b[43mindexer\u001b[49m\u001b[43m,\u001b[49m\u001b[43m \u001b[49m\u001b[43maxis_name\u001b[49m\u001b[43m)\u001b[49m\n\u001b[32m   6202\u001b[39m keyarr = \u001b[38;5;28mself\u001b[39m.take(indexer)\n\u001b[32m   6203\u001b[39m \u001b[38;5;28;01mif\u001b[39;00m \u001b[38;5;28misinstance\u001b[39m(key, Index):\n\u001b[32m   6204\u001b[39m     \u001b[38;5;66;03m# GH 42790 - Preserve name from an Index\u001b[39;00m\n",
      "\u001b[36mFile \u001b[39m\u001b[32mc:\\ALCAMPO\\python-algorithms\\algortimo-gd\\.venv\\Lib\\site-packages\\pandas\\core\\indexes\\base.py:6252\u001b[39m, in \u001b[36mIndex._raise_if_missing\u001b[39m\u001b[34m(self, key, indexer, axis_name)\u001b[39m\n\u001b[32m   6249\u001b[39m     \u001b[38;5;28;01mraise\u001b[39;00m \u001b[38;5;167;01mKeyError\u001b[39;00m(\u001b[33mf\u001b[39m\u001b[33m\"\u001b[39m\u001b[33mNone of [\u001b[39m\u001b[38;5;132;01m{\u001b[39;00mkey\u001b[38;5;132;01m}\u001b[39;00m\u001b[33m] are in the [\u001b[39m\u001b[38;5;132;01m{\u001b[39;00maxis_name\u001b[38;5;132;01m}\u001b[39;00m\u001b[33m]\u001b[39m\u001b[33m\"\u001b[39m)\n\u001b[32m   6251\u001b[39m not_found = \u001b[38;5;28mlist\u001b[39m(ensure_index(key)[missing_mask.nonzero()[\u001b[32m0\u001b[39m]].unique())\n\u001b[32m-> \u001b[39m\u001b[32m6252\u001b[39m \u001b[38;5;28;01mraise\u001b[39;00m \u001b[38;5;167;01mKeyError\u001b[39;00m(\u001b[33mf\u001b[39m\u001b[33m\"\u001b[39m\u001b[38;5;132;01m{\u001b[39;00mnot_found\u001b[38;5;132;01m}\u001b[39;00m\u001b[33m not in index\u001b[39m\u001b[33m\"\u001b[39m)\n",
      "\u001b[31mKeyError\u001b[39m: \"['data_demissao'] not in index\""
     ]
    }
   ],
   "source": [
    "# Check the number of weeks in results that dont meet the maximum 5 days of work per week\n",
    "df_results_copy = df_results.copy()\n",
    "df_results_final = df_results.copy()\n",
    "\n",
    "# Add a week number column\n",
    "df_results_copy['data'] = pd.to_datetime(df_results_copy['data'])\n",
    "df_results_final['data'] = pd.to_datetime(df_results_final['data'])\n",
    "df_results_copy['week_number'] = df_results_copy['data'].dt.isocalendar().week\n",
    "df_results_final['week_number'] = df_results_final['data'].dt.isocalendar().week\n",
    "\n",
    "# Filter the data column to be between data_ini and data_fim\n",
    "#print(df_colaboradores.columns)\n",
    "df_colaborador = df_colaboradores.copy()\n",
    "df_colaborador = df_colaborador[['matricula', 'data_admissao', 'data_demissao']]\n",
    "df_colaborador['data_admissao'] = pd.to_datetime(df_colaborador['data_admissao'])\n",
    "df_colaborador['data_demissao'] = df_colaborador['data_demissao'].replace([0, '0', np.nan], data_fim)\n",
    "df_colaborador['data_demissao'] = pd.to_datetime(df_colaborador['data_demissao'])\n",
    "df_results_copy = pd.merge(df_results_copy, df_colaborador, left_on='colaborador', right_on='matricula', how='left')\n",
    "df_results_copy = df_results_copy[(df_results_copy['data'] >= df_results_copy['data_admissao']) & (df_results_copy['data'] <= df_results_copy['data_demissao'])]\n",
    "df_results_final = pd.merge(df_results_final, df_colaborador, left_on='colaborador', right_on='matricula', how='left')\n",
    "df_results_final = df_results_final[(df_results_final['data'] >= df_results_final['data_admissao']) & (df_results_final['data'] <= df_results_final['data_demissao'])]\n",
    "\n",
    "# Add a column with the number of days worked\n",
    "df_results_copy['days_worked'] = np.where(df_results_copy['horario'].isin(['M', 'T']), 1, 0)\n",
    "\n",
    "# Group by colaborador and week_number and count the number of days worked\n",
    "df_results_copy = df_results_copy = df_results_copy.groupby(['colaborador', 'week_number'])['days_worked'].sum().reset_index()\n",
    "\n",
    "# Filter rows where days_worked is greater than 5\n",
    "df_results_copy = df_results_copy[df_results_copy['days_worked'] > 5]\n",
    "\n",
    "print(df_results_copy)\n"
   ]
  },
  {
   "cell_type": "code",
   "execution_count": null,
   "id": "416e10c9",
   "metadata": {},
   "outputs": [],
   "source": []
  }
 ],
 "metadata": {
  "kernelspec": {
   "display_name": ".venv",
   "language": "python",
   "name": "python3"
  },
  "language_info": {
   "codemirror_mode": {
    "name": "ipython",
    "version": 3
   },
   "file_extension": ".py",
   "mimetype": "text/x-python",
   "name": "python",
   "nbconvert_exporter": "python",
   "pygments_lexer": "ipython3",
   "version": "3.13.1"
  }
 },
 "nbformat": 4,
 "nbformat_minor": 5
}
