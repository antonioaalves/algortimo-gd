{
 "cells": [
  {
   "cell_type": "code",
   "execution_count": 2,
   "id": "460106fd",
   "metadata": {},
   "outputs": [],
   "source": [
    "### Validate allocation cycle\n",
    "import os\n",
    "import pandas as pd\n",
    "import datetime as dt\n",
    "import numpy as np\n",
    "from src.config import ROOT_DIR, CONFIG\n",
    "\n",
    "path_os = os.path.join(ROOT_DIR, 'data', 'output')\n",
    "posto_id = '22'\n",
    "process_id = '2881'\n",
    "df_calendario = pd.read_csv(os.path.join(path_os, 'df_calendario-'+process_id+'-'+posto_id+'.csv'))\n",
    "df_estimativas = pd.read_csv(os.path.join(path_os, 'df_estimativas-'+process_id+'-'+posto_id+'.csv'))\n",
    "df_colaboradores = pd.read_csv(os.path.join(path_os, 'df_colaborador-'+process_id+'-'+posto_id+'.csv'))\n",
    "df_insert_results = pd.read_csv(os.path.join(path_os, 'df_insert_results-'+process_id+'-'+posto_id+'.csv'))\n",
    "df_results = pd.read_csv(os.path.join(path_os, 'df_results-'+process_id+'-'+posto_id+'.csv'))\n",
    "\n",
    "data_ini = dt.datetime.strptime(CONFIG.get('external_call_data').get('start_date'), '%Y-%m-%d')\n",
    "data_fim = dt.datetime.strptime(CONFIG.get('external_call_data').get('end_date'), '%Y-%m-%d')\n"
   ]
  },
  {
   "cell_type": "markdown",
   "id": "0d69f422",
   "metadata": {},
   "source": [
    "## Totais de folgas aplicadas"
   ]
  },
  {
   "cell_type": "code",
   "execution_count": null,
   "id": "7822ddb2",
   "metadata": {},
   "outputs": [
    {
     "name": "stdout",
     "output_type": "stream",
     "text": [
      "    colaborador  L_count  LQ_count\n",
      "0             1       98       5.0\n",
      "1          5851       97       5.0\n",
      "2          7656       89       5.0\n",
      "3          7919       98       5.0\n",
      "4      80000509       97       5.0\n",
      "5      80000937       98       5.0\n",
      "6      80000951       30       0.0\n",
      "7      80001134       32       0.0\n",
      "8      80001237       99       5.0\n",
      "9      80001331       96       5.0\n",
      "10     80001366       98       5.0\n",
      "11     80001489       99       5.0\n",
      "12     80001568       99       5.0\n",
      "13     80001578       99       5.0\n",
      "14     80001630       98       5.0\n",
      "15     80003467       96       5.0\n"
     ]
    }
   ],
   "source": [
    "# Check how many L's we gave to each colaborador in the results\n",
    "\n",
    "# Filter rows where horario is 'L' and count by colaborador\n",
    "df_folgas_per_colab_L = df_results[df_results['horario'] == 'L'].groupby('colaborador').size().reset_index(name='L_count')\n",
    "df_folgas_per_colab_LQ = df_results[df_results['horario'] == 'LQ'].groupby('colaborador').size().reset_index(name='LQ_count')\n",
    "df_folgas_per\n",
    "\n",
    "# Merge the two dataframes on the colaborador column\n",
    "df_folgas_per_colab = pd.merge(df_folgas_per_colab_L, df_folgas_per_colab_LQ, on='colaborador', how='left')\n",
    "df_folgas_per_colab['L_count'] = df_folgas_per_colab['L_count'].fillna(0)\n",
    "df_folgas_per_colab['LQ_count'] = df_folgas_per_colab['LQ_count'].fillna(0)\n",
    "print(df_folgas_per_colab)\n",
    "\n",
    "# df_folgas_per_colab must have the same as in df_colaborador"
   ]
  },
  {
   "cell_type": "markdown",
   "id": "9285a792",
   "metadata": {},
   "source": [
    "## Semanas de incumprimento"
   ]
  },
  {
   "cell_type": "code",
   "execution_count": 4,
   "id": "5802b7fc",
   "metadata": {},
   "outputs": [
    {
     "name": "stdout",
     "output_type": "stream",
     "text": [
      "     colaborador  week_number  days_worked\n",
      "19             3           37            7\n",
      "20             3           38            7\n",
      "22          5851            1            6\n",
      "74          7656            1            7\n",
      "126         7919            1            6\n",
      "178     80000509            1            7\n",
      "230     80000937            1            7\n",
      "386     80001237            1            6\n",
      "438     80001331            1            7\n",
      "490     80001366            1            7\n",
      "542     80001489            1            6\n",
      "720     80003467            1            7\n"
     ]
    }
   ],
   "source": [
    "# Check the number of weeks in results that dont meet the maximum 5 days of work per week\n",
    "df_results_copy = df_results.copy()\n",
    "df_results_final = df_results.copy()\n",
    "\n",
    "# Add a week number column\n",
    "df_results_copy['data'] = pd.to_datetime(df_results_copy['data'])\n",
    "df_results_final['data'] = pd.to_datetime(df_results_final['data'])\n",
    "df_results_copy['week_number'] = df_results_copy['data'].dt.isocalendar().week\n",
    "df_results_final['week_number'] = df_results_final['data'].dt.isocalendar().week\n",
    "\n",
    "# Filter the data column to be between data_ini and data_fim\n",
    "#print(df_colaboradores.columns)\n",
    "df_colaborador = df_colaboradores.copy()\n",
    "df_colaborador = df_colaborador[['matricula', 'data_admissao', 'data_demissao']]\n",
    "df_colaborador['data_admissao'] = pd.to_datetime(df_colaborador['data_admissao'])\n",
    "df_colaborador['data_demissao'] = df_colaborador['data_demissao'].replace([0, '0', np.nan], data_fim)\n",
    "df_colaborador['data_demissao'] = pd.to_datetime(df_colaborador['data_demissao'])\n",
    "df_results_copy = pd.merge(df_results_copy, df_colaborador, left_on='colaborador', right_on='matricula', how='left')\n",
    "df_results_copy = df_results_copy[(df_results_copy['data'] >= df_results_copy['data_admissao']) & (df_results_copy['data'] <= df_results_copy['data_demissao'])]\n",
    "df_results_final = pd.merge(df_results_final, df_colaborador, left_on='colaborador', right_on='matricula', how='left')\n",
    "df_results_final = df_results_final[(df_results_final['data'] >= df_results_final['data_admissao']) & (df_results_final['data'] <= df_results_final['data_demissao'])]\n",
    "\n",
    "# Add a column with the number of days worked\n",
    "df_results_copy['days_worked'] = np.where(df_results_copy['horario'].isin(['M', 'T']), 1, 0)\n",
    "\n",
    "# Group by colaborador and week_number and count the number of days worked\n",
    "df_results_copy = df_results_copy = df_results_copy.groupby(['colaborador', 'week_number'])['days_worked'].sum().reset_index()\n",
    "\n",
    "# Filter rows where days_worked is greater than 5\n",
    "df_results_copy = df_results_copy[df_results_copy['days_worked'] > 5]\n",
    "\n",
    "print(df_results_copy)\n"
   ]
  },
  {
   "cell_type": "code",
   "execution_count": null,
   "id": "416e10c9",
   "metadata": {},
   "outputs": [],
   "source": []
  }
 ],
 "metadata": {
  "kernelspec": {
   "display_name": ".venv",
   "language": "python",
   "name": "python3"
  },
  "language_info": {
   "codemirror_mode": {
    "name": "ipython",
    "version": 3
   },
   "file_extension": ".py",
   "mimetype": "text/x-python",
   "name": "python",
   "nbconvert_exporter": "python",
   "pygments_lexer": "ipython3",
   "version": "3.13.1"
  }
 },
 "nbformat": 4,
 "nbformat_minor": 5
}
